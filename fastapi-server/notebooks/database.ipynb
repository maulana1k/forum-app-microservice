{
 "cells": [
  {
   "cell_type": "code",
   "execution_count": null,
   "id": "38e6af25",
   "metadata": {},
   "outputs": [],
   "source": [
    "# Import libraries\n",
    "import pandas as pd\n",
    "from sqlalchemy import create_engine\n",
    "\n",
    "# --- 1. Connect to Postgres ---\n",
    "DB_USER = \"dev\"\n",
    "DB_PASSWORD = \"dev\"\n",
    "DB_HOST = \"localhost\"\n",
    "DB_PORT = \"5432\"\n",
    "DB_NAME = \"forumdb\"\n",
    "\n",
    "# SQLAlchemy engine\n",
    "engine = create_engine(f\"postgresql+psycopg2://{DB_USER}:{DB_PASSWORD}@{DB_HOST}:{DB_PORT}/{DB_NAME}\")\n",
    "\n",
    "# --- 2. List all tables ---\n",
    "tables_query = \"\"\"\n",
    "SELECT table_name\n",
    "FROM information_schema.tables\n",
    "WHERE table_schema='public'\n",
    "\"\"\"\n",
    "tables = pd.read_sql(tables_query, engine)\n",
    "print(\"Tables in database:\")\n",
    "print(tables)\n"
   ]
  },
  {
   "cell_type": "code",
   "execution_count": null,
   "id": "e70f141d",
   "metadata": {},
   "outputs": [],
   "source": [
    "# --- 3. Load a table into pandas ---\n",
    "df_users = pd.read_sql(\"SELECT * FROM users\", engine)\n",
    "\n",
    "# --- 4. View data ---\n",
    "print(\"\\nUsers table preview:\")\n",
    "display(df_users.head())"
   ]
  }
 ],
 "metadata": {
  "kernelspec": {
   "display_name": "Python 3",
   "language": "python",
   "name": "python3"
  },
  "language_info": {
   "codemirror_mode": {
    "name": "ipython",
    "version": 3
   },
   "file_extension": ".py",
   "mimetype": "text/x-python",
   "name": "python",
   "nbconvert_exporter": "python",
   "pygments_lexer": "ipython3",
   "version": "3.11.9"
  }
 },
 "nbformat": 4,
 "nbformat_minor": 5
}
