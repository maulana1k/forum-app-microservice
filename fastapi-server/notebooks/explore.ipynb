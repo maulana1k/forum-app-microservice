{
 "cells": [
  {
   "cell_type": "code",
   "execution_count": 3,
   "id": "38e6af25",
   "metadata": {},
   "outputs": [
    {
     "name": "stdout",
     "output_type": "stream",
     "text": [
      "Tables in database:\n",
      "  table_name\n",
      "0      users\n",
      "\n",
      "Users table preview:\n"
     ]
    },
    {
     "data": {
      "text/html": [
       "<div>\n",
       "<style scoped>\n",
       "    .dataframe tbody tr th:only-of-type {\n",
       "        vertical-align: middle;\n",
       "    }\n",
       "\n",
       "    .dataframe tbody tr th {\n",
       "        vertical-align: top;\n",
       "    }\n",
       "\n",
       "    .dataframe thead th {\n",
       "        text-align: right;\n",
       "    }\n",
       "</style>\n",
       "<table border=\"1\" class=\"dataframe\">\n",
       "  <thead>\n",
       "    <tr style=\"text-align: right;\">\n",
       "      <th></th>\n",
       "      <th>id</th>\n",
       "      <th>username</th>\n",
       "      <th>email</th>\n",
       "      <th>password</th>\n",
       "      <th>created_at</th>\n",
       "      <th>updated_at</th>\n",
       "      <th>deleted_at</th>\n",
       "    </tr>\n",
       "  </thead>\n",
       "  <tbody>\n",
       "    <tr>\n",
       "      <th>0</th>\n",
       "      <td>1</td>\n",
       "      <td>admin</td>\n",
       "      <td>john@example.com</td>\n",
       "      <td>$2a$12$JTlPAtWuIvb89op5VMpPyOfPYGlbMAcPLGpLxPk...</td>\n",
       "      <td>2025-08-24 17:41:41.385753+00:00</td>\n",
       "      <td>2025-08-24 17:41:41.385753+00:00</td>\n",
       "      <td>None</td>\n",
       "    </tr>\n",
       "  </tbody>\n",
       "</table>\n",
       "</div>"
      ],
      "text/plain": [
       "   id username             email  \\\n",
       "0   1    admin  john@example.com   \n",
       "\n",
       "                                            password  \\\n",
       "0  $2a$12$JTlPAtWuIvb89op5VMpPyOfPYGlbMAcPLGpLxPk...   \n",
       "\n",
       "                        created_at                       updated_at deleted_at  \n",
       "0 2025-08-24 17:41:41.385753+00:00 2025-08-24 17:41:41.385753+00:00       None  "
      ]
     },
     "metadata": {},
     "output_type": "display_data"
    }
   ],
   "source": [
    "# Import libraries\n",
    "import pandas as pd\n",
    "from sqlalchemy import create_engine\n",
    "\n",
    "# --- 1. Connect to Postgres ---\n",
    "DB_USER = \"dev\"\n",
    "DB_PASSWORD = \"dev\"\n",
    "DB_HOST = \"localhost\"\n",
    "DB_PORT = \"5432\"\n",
    "DB_NAME = \"forumdb\"\n",
    "\n",
    "# SQLAlchemy engine\n",
    "engine = create_engine(f\"postgresql+psycopg2://{DB_USER}:{DB_PASSWORD}@{DB_HOST}:{DB_PORT}/{DB_NAME}\")\n",
    "\n",
    "# --- 2. List all tables ---\n",
    "tables_query = \"\"\"\n",
    "SELECT table_name\n",
    "FROM information_schema.tables\n",
    "WHERE table_schema='public'\n",
    "\"\"\"\n",
    "tables = pd.read_sql(tables_query, engine)\n",
    "print(\"Tables in database:\")\n",
    "print(tables)\n",
    "\n",
    "# --- 3. Load a table into pandas ---\n",
    "# Replace 'users' with your actual table name\n",
    "df_users = pd.read_sql(\"SELECT * FROM users\", engine)\n",
    "\n",
    "# --- 4. View data ---\n",
    "print(\"\\nUsers table preview:\")\n",
    "display(df_users.head())\n",
    "\n"
   ]
  }
 ],
 "metadata": {
  "kernelspec": {
   "display_name": "Python 3",
   "language": "python",
   "name": "python3"
  },
  "language_info": {
   "codemirror_mode": {
    "name": "ipython",
    "version": 3
   },
   "file_extension": ".py",
   "mimetype": "text/x-python",
   "name": "python",
   "nbconvert_exporter": "python",
   "pygments_lexer": "ipython3",
   "version": "3.11.9"
  }
 },
 "nbformat": 4,
 "nbformat_minor": 5
}
